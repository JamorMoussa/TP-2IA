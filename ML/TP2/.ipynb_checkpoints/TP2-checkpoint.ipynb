{
 "cells": [
  {
   "cell_type": "markdown",
   "id": "89aba1e8-a27b-4b80-b058-25c436f840b6",
   "metadata": {},
   "source": [
    "## TP2: Linear Regression and Ligistic regression"
   ]
  },
  {
   "cell_type": "code",
   "execution_count": 4,
   "id": "dbbe4084-0ca8-406d-8334-0ff0f58688c4",
   "metadata": {},
   "outputs": [],
   "source": [
    "# import library :\n",
    "import numpy as np\n",
    "import matplotlib.pyplot as plt"
   ]
  },
  {
   "cell_type": "code",
   "execution_count": 164,
   "id": "c08a0381-1206-44b7-a934-84eefcdc5230",
   "metadata": {},
   "outputs": [],
   "source": [
    "def prepare_data(X, y):\n",
    "    x_ = np.hstack((np.ones((len(X), 1)), X))\n",
    "    #y_ = np.where(y==0, -1, 1)\n",
    "    y_ = y\n",
    "    return x_, y_"
   ]
  },
  {
   "cell_type": "markdown",
   "id": "82f7d425-632d-4957-9fe7-a91cb08b1054",
   "metadata": {},
   "source": [
    "#### Exercise 1: Unidimensional Linear Regression"
   ]
  },
  {
   "cell_type": "code",
   "execution_count": 217,
   "id": "9507e679-3966-48fc-85ed-7e55ef37128b",
   "metadata": {},
   "outputs": [],
   "source": [
    "def hs(w, xi):\n",
    "    return np.dot(w, xi)"
   ]
  },
  {
   "cell_type": "code",
   "execution_count": 218,
   "id": "3bc17974-c2da-498c-b841-628a82eea3af",
   "metadata": {},
   "outputs": [],
   "source": [
    "def Ls(w, X, y):\n",
    "    return (1/len(X))*np.array([(hs(w, xi) - y[i])**2 for i, xi in enumerate(X)]).sum()"
   ]
  },
  {
   "cell_type": "code",
   "execution_count": 444,
   "id": "6db329e9-87ed-46e7-8eab-51d3b32ac6b5",
   "metadata": {},
   "outputs": [],
   "source": [
    "def grad(w, X, y):\n",
    "    return (2/len(X))*np.array([(hs(w, xi) - y[i])*xi for i, xi in enumerate(X)]).sum()"
   ]
  },
  {
   "cell_type": "code",
   "execution_count": 447,
   "id": "fa6df8bd-c729-424c-9347-78160984c199",
   "metadata": {},
   "outputs": [
    {
     "data": {
      "text/plain": [
       "array([0.88735022])"
      ]
     },
     "execution_count": 447,
     "metadata": {},
     "output_type": "execute_result"
    }
   ],
   "source": [
    "w0"
   ]
  },
  {
   "cell_type": "code",
   "execution_count": null,
   "id": "0bd03080-ff9d-4b6c-a2d2-8306629efc2b",
   "metadata": {},
   "outputs": [],
   "source": []
  },
  {
   "cell_type": "code",
   "execution_count": 451,
   "id": "6479b506-8b3f-45bd-b3d2-8511c775ad0c",
   "metadata": {},
   "outputs": [
    {
     "ename": "ValueError",
     "evalue": "shapes (1,) and (2,) not aligned: 1 (dim 0) != 2 (dim 0)",
     "output_type": "error",
     "traceback": [
      "\u001b[1;31m---------------------------------------------------------------------------\u001b[0m",
      "\u001b[1;31mValueError\u001b[0m                                Traceback (most recent call last)",
      "Cell \u001b[1;32mIn[451], line 1\u001b[0m\n\u001b[1;32m----> 1\u001b[0m \u001b[43mhs\u001b[49m\u001b[43m(\u001b[49m\u001b[43mw0\u001b[49m\u001b[43m,\u001b[49m\u001b[43m \u001b[49m\u001b[43mX_train\u001b[49m\u001b[43m[\u001b[49m\u001b[38;5;241;43m0\u001b[39;49m\u001b[43m]\u001b[49m\u001b[43m)\u001b[49m\n",
      "Cell \u001b[1;32mIn[217], line 2\u001b[0m, in \u001b[0;36mhs\u001b[1;34m(w, xi)\u001b[0m\n\u001b[0;32m      1\u001b[0m \u001b[38;5;28;01mdef\u001b[39;00m \u001b[38;5;21mhs\u001b[39m(w, xi):\n\u001b[1;32m----> 2\u001b[0m     \u001b[38;5;28;01mreturn\u001b[39;00m \u001b[43mnp\u001b[49m\u001b[38;5;241;43m.\u001b[39;49m\u001b[43mdot\u001b[49m\u001b[43m(\u001b[49m\u001b[43mw\u001b[49m\u001b[43m,\u001b[49m\u001b[43m \u001b[49m\u001b[43mxi\u001b[49m\u001b[43m)\u001b[49m\n",
      "File \u001b[1;32m<__array_function__ internals>:180\u001b[0m, in \u001b[0;36mdot\u001b[1;34m(*args, **kwargs)\u001b[0m\n",
      "\u001b[1;31mValueError\u001b[0m: shapes (1,) and (2,) not aligned: 1 (dim 0) != 2 (dim 0)"
     ]
    }
   ],
   "source": [
    "hs(w0, X_train[0])"
   ]
  },
  {
   "cell_type": "code",
   "execution_count": 448,
   "id": "33e73c6d-cf0b-45ff-b8b5-c3a85b39e255",
   "metadata": {},
   "outputs": [
    {
     "ename": "ValueError",
     "evalue": "shapes (1,) and (2,) not aligned: 1 (dim 0) != 2 (dim 0)",
     "output_type": "error",
     "traceback": [
      "\u001b[1;31m---------------------------------------------------------------------------\u001b[0m",
      "\u001b[1;31mValueError\u001b[0m                                Traceback (most recent call last)",
      "Cell \u001b[1;32mIn[448], line 1\u001b[0m\n\u001b[1;32m----> 1\u001b[0m \u001b[43mgrad\u001b[49m\u001b[43m(\u001b[49m\u001b[43mw0\u001b[49m\u001b[43m,\u001b[49m\u001b[43m \u001b[49m\u001b[43mX_train\u001b[49m\u001b[43m,\u001b[49m\u001b[43m \u001b[49m\u001b[43my_train\u001b[49m\u001b[43m)\u001b[49m\n",
      "Cell \u001b[1;32mIn[444], line 2\u001b[0m, in \u001b[0;36mgrad\u001b[1;34m(w, X, y)\u001b[0m\n\u001b[0;32m      1\u001b[0m \u001b[38;5;28;01mdef\u001b[39;00m \u001b[38;5;21mgrad\u001b[39m(w, X, y):\n\u001b[1;32m----> 2\u001b[0m     \u001b[38;5;28;01mreturn\u001b[39;00m (\u001b[38;5;241m2\u001b[39m\u001b[38;5;241m/\u001b[39m\u001b[38;5;28mlen\u001b[39m(X))\u001b[38;5;241m*\u001b[39mnp\u001b[38;5;241m.\u001b[39marray(\u001b[43m[\u001b[49m\u001b[43m(\u001b[49m\u001b[43mhs\u001b[49m\u001b[43m(\u001b[49m\u001b[43mw\u001b[49m\u001b[43m,\u001b[49m\u001b[43m \u001b[49m\u001b[43mxi\u001b[49m\u001b[43m)\u001b[49m\u001b[43m \u001b[49m\u001b[38;5;241;43m-\u001b[39;49m\u001b[43m \u001b[49m\u001b[43my\u001b[49m\u001b[43m[\u001b[49m\u001b[43mi\u001b[49m\u001b[43m]\u001b[49m\u001b[43m)\u001b[49m\u001b[38;5;241;43m*\u001b[39;49m\u001b[43mxi\u001b[49m\u001b[43m \u001b[49m\u001b[38;5;28;43;01mfor\u001b[39;49;00m\u001b[43m \u001b[49m\u001b[43mi\u001b[49m\u001b[43m,\u001b[49m\u001b[43m \u001b[49m\u001b[43mxi\u001b[49m\u001b[43m \u001b[49m\u001b[38;5;129;43;01min\u001b[39;49;00m\u001b[43m \u001b[49m\u001b[38;5;28;43menumerate\u001b[39;49m\u001b[43m(\u001b[49m\u001b[43mX\u001b[49m\u001b[43m)\u001b[49m\u001b[43m]\u001b[49m)\u001b[38;5;241m.\u001b[39msum()\n",
      "Cell \u001b[1;32mIn[444], line 2\u001b[0m, in \u001b[0;36m<listcomp>\u001b[1;34m(.0)\u001b[0m\n\u001b[0;32m      1\u001b[0m \u001b[38;5;28;01mdef\u001b[39;00m \u001b[38;5;21mgrad\u001b[39m(w, X, y):\n\u001b[1;32m----> 2\u001b[0m     \u001b[38;5;28;01mreturn\u001b[39;00m (\u001b[38;5;241m2\u001b[39m\u001b[38;5;241m/\u001b[39m\u001b[38;5;28mlen\u001b[39m(X))\u001b[38;5;241m*\u001b[39mnp\u001b[38;5;241m.\u001b[39marray([(\u001b[43mhs\u001b[49m\u001b[43m(\u001b[49m\u001b[43mw\u001b[49m\u001b[43m,\u001b[49m\u001b[43m \u001b[49m\u001b[43mxi\u001b[49m\u001b[43m)\u001b[49m \u001b[38;5;241m-\u001b[39m y[i])\u001b[38;5;241m*\u001b[39mxi \u001b[38;5;28;01mfor\u001b[39;00m i, xi \u001b[38;5;129;01min\u001b[39;00m \u001b[38;5;28menumerate\u001b[39m(X)])\u001b[38;5;241m.\u001b[39msum()\n",
      "Cell \u001b[1;32mIn[217], line 2\u001b[0m, in \u001b[0;36mhs\u001b[1;34m(w, xi)\u001b[0m\n\u001b[0;32m      1\u001b[0m \u001b[38;5;28;01mdef\u001b[39;00m \u001b[38;5;21mhs\u001b[39m(w, xi):\n\u001b[1;32m----> 2\u001b[0m     \u001b[38;5;28;01mreturn\u001b[39;00m \u001b[43mnp\u001b[49m\u001b[38;5;241;43m.\u001b[39;49m\u001b[43mdot\u001b[49m\u001b[43m(\u001b[49m\u001b[43mw\u001b[49m\u001b[43m,\u001b[49m\u001b[43m \u001b[49m\u001b[43mxi\u001b[49m\u001b[43m)\u001b[49m\n",
      "File \u001b[1;32m<__array_function__ internals>:180\u001b[0m, in \u001b[0;36mdot\u001b[1;34m(*args, **kwargs)\u001b[0m\n",
      "\u001b[1;31mValueError\u001b[0m: shapes (1,) and (2,) not aligned: 1 (dim 0) != 2 (dim 0)"
     ]
    }
   ],
   "source": [
    "grad(w0, X_train, y_train)"
   ]
  },
  {
   "cell_type": "code",
   "execution_count": 445,
   "id": "33b19ad1-de30-4960-ab50-a8254bafe6d3",
   "metadata": {},
   "outputs": [],
   "source": [
    "def LinearRegression(w0, X, y, eps=1e-3, lr=0.01):\n",
    "\n",
    "    w = np.copy(w0)\n",
    "    loss = Ls(w, X, y)\n",
    "    gd = grad(w, X, y)\n",
    "    t = 0\n",
    "    loss_hist = [loss, ]\n",
    "\n",
    "    while(abs(gd)> eps):\n",
    "        w -= lr * gd\n",
    "        gd = grad(w, X, y)\n",
    "        t += 1\n",
    "        loss = Ls(w, X, y)\n",
    "        loss_hist.append(loss)\n",
    "\n",
    "    return w, gd , loss, loss_hist, t"
   ]
  },
  {
   "cell_type": "code",
   "execution_count": 446,
   "id": "be259046-7e54-4429-9b87-adbdc80bbe1b",
   "metadata": {},
   "outputs": [],
   "source": [
    "X = np.random.random((100, 1))"
   ]
  },
  {
   "cell_type": "code",
   "execution_count": 437,
   "id": "624f6c4a-9787-4048-9d63-c6e2ada7de3b",
   "metadata": {},
   "outputs": [],
   "source": [
    "y = np.dot(X, np.array([2])) + 3"
   ]
  },
  {
   "cell_type": "code",
   "execution_count": 452,
   "id": "deb14413-3df7-418e-929f-fa8daf12936e",
   "metadata": {},
   "outputs": [],
   "source": [
    "w0 = np.random.random((X_train.shape[1]))"
   ]
  },
  {
   "cell_type": "code",
   "execution_count": 453,
   "id": "7295e943-2591-43d5-95bd-4e6bb0d005e0",
   "metadata": {},
   "outputs": [
    {
     "data": {
      "text/plain": [
       "array([0.57644458, 0.08899052])"
      ]
     },
     "execution_count": 453,
     "metadata": {},
     "output_type": "execute_result"
    }
   ],
   "source": [
    "w0"
   ]
  },
  {
   "cell_type": "code",
   "execution_count": 454,
   "id": "38d2bc1e-8215-4f39-b562-b3a486ef65b5",
   "metadata": {},
   "outputs": [],
   "source": [
    "X_train, y_train = prepare_data(X, y)"
   ]
  },
  {
   "cell_type": "code",
   "execution_count": 455,
   "id": "11b60b76-802f-4e06-992b-50381a5c2932",
   "metadata": {},
   "outputs": [
    {
     "data": {
      "text/plain": [
       "array([3.90093788, 0.07079176])"
      ]
     },
     "execution_count": 455,
     "metadata": {},
     "output_type": "execute_result"
    }
   ],
   "source": [
    "np.linalg.inv(X_train.T @ X_train)@X_train.T@y"
   ]
  },
  {
   "cell_type": "code",
   "execution_count": 456,
   "id": "bef9652f-8007-4e96-a040-2c1f348f277b",
   "metadata": {},
   "outputs": [],
   "source": [
    "def rand_min_lreg(num=10):\n",
    "    hist = []\n",
    "    for i in range(num):\n",
    "        w0 = np.random.random((X_train.shape[1]))\n",
    "        lr = np.random.rand()\n",
    "        w, gd , loss, _, t = LinearRegression(w0, X_train, y_train, lr=lr)\n",
    "        hist.append((w, gd , loss, t))\n",
    "    return hist  "
   ]
  },
  {
   "cell_type": "code",
   "execution_count": 457,
   "id": "dabac4bd-de49-4aa0-8810-efe98822d7de",
   "metadata": {},
   "outputs": [
    {
     "name": "stderr",
     "output_type": "stream",
     "text": [
      "C:\\Users\\Jamor\\AppData\\Local\\Temp\\ipykernel_19044\\1970934746.py:2: RuntimeWarning: overflow encountered in double_scalars\n",
      "  return (1/len(X))*np.array([(hs(w, xi) - y[i])**2 for i, xi in enumerate(X)]).sum()\n",
      "C:\\Users\\Jamor\\AppData\\Local\\Temp\\ipykernel_19044\\1812880098.py:10: RuntimeWarning: invalid value encountered in subtract\n",
      "  w -= lr * gd\n"
     ]
    }
   ],
   "source": [
    "hist = rand_min_lreg(num=10)"
   ]
  },
  {
   "cell_type": "code",
   "execution_count": 422,
   "id": "aabef475-0dc7-47e5-80ec-13680dd40a7e",
   "metadata": {},
   "outputs": [],
   "source": [
    "hist.sort(key = lambda x : x[2])"
   ]
  },
  {
   "cell_type": "code",
   "execution_count": 423,
   "id": "e0f316bb-5862-491a-acb9-6ebdf04d470e",
   "metadata": {},
   "outputs": [],
   "source": [
    "w, _, _, _ = hist[0]"
   ]
  },
  {
   "cell_type": "code",
   "execution_count": 424,
   "id": "5d59b938-6148-4b21-9b6f-7513f1f16206",
   "metadata": {},
   "outputs": [
    {
     "data": {
      "text/plain": [
       "array([nan, nan])"
      ]
     },
     "execution_count": 424,
     "metadata": {},
     "output_type": "execute_result"
    }
   ],
   "source": [
    "w"
   ]
  },
  {
   "cell_type": "code",
   "execution_count": 406,
   "id": "ab4d237a-b297-4fde-9bf5-40d11e598ba5",
   "metadata": {},
   "outputs": [],
   "source": [
    "def plot_2D(w, X, y):\n",
    "    fig, ax = plt.subplots()\n",
    "    \n",
    "    min_x0 = np.amin(X[:, 1])\n",
    "    max_x1 = np.amax(X[:, 1])\n",
    "\n",
    "    ax.scatter(X[:, 1], y, marker=\"o\")\n",
    "    \n",
    "    x = np.linspace(min_x0, max_x1, 100)\n",
    "\n",
    "    y = w[1] * x + w[0]\n",
    "    \n",
    "    ax.plot(x, y)"
   ]
  },
  {
   "cell_type": "code",
   "execution_count": 407,
   "id": "7e7f828c-c33e-4a7e-90d6-72fd315f7a29",
   "metadata": {},
   "outputs": [
    {
     "data": {
      "image/png": "[encoded data removed]",
      "text/plain": [
       "<Figure size 640x480 with 1 Axes>"
      ]
     },
     "metadata": {},
     "output_type": "display_data"
    }
   ],
   "source": [
    "plot_2D(w, X_train, y_train)"
   ]
  },
  {
   "cell_type": "code",
   "execution_count": null,
   "id": "b2bc88a3-3398-4255-b5bb-395ce01d0698",
   "metadata": {},
   "outputs": [],
   "source": []
  }
 ],
 "metadata": {
  "kernelspec": {
   "display_name": "Python 3 (ipykernel)",
   "language": "python",
   "name": "python3"
  },
  "language_info": {
   "codemirror_mode": {
    "name": "ipython",
    "version": 3
   },
   "file_extension": ".py",
   "mimetype": "text/x-python",
   "name": "python",
   "nbconvert_exporter": "python",
   "pygments_lexer": "ipython3",
   "version": "3.11.6"
  }
 },
 "nbformat": 4,
 "nbformat_minor": 5
}
