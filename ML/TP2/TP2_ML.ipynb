{
 "cells": [
  {
   "cell_type": "markdown",
   "id": "530934e4-dbac-4297-9b64-11d7b53cbcdc",
   "metadata": {},
   "source": [
    "# TP2: Linear regression and logistic regression"
   ]
  },
  {
   "cell_type": "markdown",
   "id": "7a0e0a16-0136-497e-b880-acb25d6bb55c",
   "metadata": {},
   "source": [
    " "
   ]
  },
  {
   "cell_type": "code",
   "execution_count": 3,
   "id": "bde79ac4-5603-47da-b4fa-10d05e678aa5",
   "metadata": {},
   "outputs": [],
   "source": [
    "# import libraries\n",
    "import numpy as np\n",
    "import matplotlib.pyplot as plt\n",
    "import pandas as pd"
   ]
  },
  {
   "cell_type": "markdown",
   "id": "9f05d4f2-5c11-4ec6-b3bd-ec7a264de71f",
   "metadata": {},
   "source": [
    "### Define important functions : "
   ]
  },
  {
   "cell_type": "code",
   "execution_count": 92,
   "id": "15fd3ca9-731d-41ea-bf27-0299cf7d0346",
   "metadata": {},
   "outputs": [],
   "source": [
    "# hypothesis : \n",
    "def hs(w, xi):\n",
    "    return np.dot(w, xi)"
   ]
  },
  {
   "cell_type": "code",
   "execution_count": null,
   "id": "aae7f221-bee3-48fa-9050-5ee04f12fa93",
   "metadata": {},
   "outputs": [],
   "source": [
    "# Quadratic loss function :\n",
    "def Ls(w, X, y):\n",
    "    return (1/len(X))*np.array([(hs(w, xi) - y[i])**2 for i, xi in enumerate(X)]).sum()"
   ]
  },
  {
   "cell_type": "code",
   "execution_count": 93,
   "id": "32db8dd4-b4c1-4005-9a6c-7d5527478817",
   "metadata": {},
   "outputs": [],
   "source": [
    "# add 1 to data set :  x = (1, x)\n",
    "def _prepare_data(X, y):\n",
    "    if X.ndim == 1:\n",
    "        X = X.reshape((-1, 1)) \n",
    "    Xp = np.hstack((np.ones((len(X), 1)), X))\n",
    "    return Xp, np.copy(y)"
   ]
  },
  {
   "cell_type": "code",
   "execution_count": 119,
   "id": "b30c1ae2-139d-4f2e-8c03-7180813f22b9",
   "metadata": {},
   "outputs": [],
   "source": [
    "# this function plot data using scatters and line that fit this data :\n",
    "def plot_data_and_line(X, y, w=None):\n",
    "    fig, ax = plt.subplots()\n",
    "    \n",
    "    min_x0 = np.amin(X)\n",
    "    max_x1 = np.amax(X)\n",
    "    \n",
    "    ax.scatter(X, y, marker=\"o\")\n",
    "\n",
    "    if w is not None:\n",
    "        x = np.linspace(min_x0, max_x1, 100)\n",
    "        y = w[1] * x + w[0]\n",
    "        ax.plot(x, y)"
   ]
  },
  {
   "cell_type": "code",
   "execution_count": null,
   "id": "8643a752-73e6-485f-8aed-8326a35e4834",
   "metadata": {},
   "outputs": [],
   "source": []
  },
  {
   "cell_type": "markdown",
   "id": "8ebbb5c7-678e-4eb5-b890-2de92180b36a",
   "metadata": {},
   "source": [
    "\n",
    "## Exercise 1: Unidimensional Linear Regression\r\n"
   ]
  },
  {
   "cell_type": "markdown",
   "id": "7ed94a04-3e26-4bb4-9874-6785bc8218b4",
   "metadata": {},
   "source": [
    "#### 1. load data set"
   ]
  },
  {
   "cell_type": "code",
   "execution_count": 107,
   "id": "99c670ad-6d3b-4b04-aa2b-c018c98fe039",
   "metadata": {},
   "outputs": [],
   "source": [
    "df = pd.read_csv(\"./mycar.csv\")"
   ]
  },
  {
   "cell_type": "code",
   "execution_count": 108,
   "id": "ad3ad4f4-b1f1-4706-8f86-a701a8febe15",
   "metadata": {},
   "outputs": [
    {
     "data": {
      "text/html": [
       "<div>\n",
       "<style scoped>\n",
       "    .dataframe tbody tr th:only-of-type {\n",
       "        vertical-align: middle;\n",
       "    }\n",
       "\n",
       "    .dataframe tbody tr th {\n",
       "        vertical-align: top;\n",
       "    }\n",
       "\n",
       "    .dataframe thead th {\n",
       "        text-align: right;\n",
       "    }\n",
       "</style>\n",
       "<table border=\"1\" class=\"dataframe\">\n",
       "  <thead>\n",
       "    <tr style=\"text-align: right;\">\n",
       "      <th></th>\n",
       "      <th>speed</th>\n",
       "      <th>dist</th>\n",
       "    </tr>\n",
       "  </thead>\n",
       "  <tbody>\n",
       "    <tr>\n",
       "      <th>count</th>\n",
       "      <td>50.000000</td>\n",
       "      <td>50.000000</td>\n",
       "    </tr>\n",
       "    <tr>\n",
       "      <th>mean</th>\n",
       "      <td>15.400000</td>\n",
       "      <td>42.980000</td>\n",
       "    </tr>\n",
       "    <tr>\n",
       "      <th>std</th>\n",
       "      <td>5.287644</td>\n",
       "      <td>25.769377</td>\n",
       "    </tr>\n",
       "    <tr>\n",
       "      <th>min</th>\n",
       "      <td>4.000000</td>\n",
       "      <td>2.000000</td>\n",
       "    </tr>\n",
       "    <tr>\n",
       "      <th>25%</th>\n",
       "      <td>12.000000</td>\n",
       "      <td>26.000000</td>\n",
       "    </tr>\n",
       "    <tr>\n",
       "      <th>50%</th>\n",
       "      <td>15.000000</td>\n",
       "      <td>36.000000</td>\n",
       "    </tr>\n",
       "    <tr>\n",
       "      <th>75%</th>\n",
       "      <td>19.000000</td>\n",
       "      <td>56.000000</td>\n",
       "    </tr>\n",
       "    <tr>\n",
       "      <th>max</th>\n",
       "      <td>25.000000</td>\n",
       "      <td>120.000000</td>\n",
       "    </tr>\n",
       "  </tbody>\n",
       "</table>\n",
       "</div>"
      ],
      "text/plain": [
       "           speed        dist\n",
       "count  50.000000   50.000000\n",
       "mean   15.400000   42.980000\n",
       "std     5.287644   25.769377\n",
       "min     4.000000    2.000000\n",
       "25%    12.000000   26.000000\n",
       "50%    15.000000   36.000000\n",
       "75%    19.000000   56.000000\n",
       "max    25.000000  120.000000"
      ]
     },
     "execution_count": 108,
     "metadata": {},
     "output_type": "execute_result"
    }
   ],
   "source": [
    "df.describe()"
   ]
  },
  {
   "cell_type": "code",
   "execution_count": 109,
   "id": "93034c0e-09a4-485e-996f-cc87eb278f0a",
   "metadata": {},
   "outputs": [],
   "source": [
    "data = df.to_numpy()"
   ]
  },
  {
   "cell_type": "code",
   "execution_count": 110,
   "id": "7a99f3b9-90c3-4595-bc5f-e4479d9414de",
   "metadata": {},
   "outputs": [],
   "source": [
    "X_train, y_train = data[:, 0], data[:, 1]"
   ]
  },
  {
   "cell_type": "code",
   "execution_count": 111,
   "id": "3d8fc974-1b28-4451-8a70-85ef27e341bc",
   "metadata": {},
   "outputs": [
    {
     "data": {
      "text/plain": [
       "array([4, 4, 7, 7], dtype=int64)"
      ]
     },
     "execution_count": 111,
     "metadata": {},
     "output_type": "execute_result"
    }
   ],
   "source": [
    "X_train[:4]"
   ]
  },
  {
   "cell_type": "code",
   "execution_count": 112,
   "id": "0dde1258-8304-485f-b8d1-ea1c7db8a167",
   "metadata": {},
   "outputs": [
    {
     "data": {
      "text/plain": [
       "array([ 2, 10,  4, 22], dtype=int64)"
      ]
     },
     "execution_count": 112,
     "metadata": {},
     "output_type": "execute_result"
    }
   ],
   "source": [
    "y_train[:4]"
   ]
  },
  {
   "cell_type": "markdown",
   "id": "3fc59b59-99c5-4a81-9ce7-93bc425de9fa",
   "metadata": {},
   "source": [
    "#### 2. plot dataset :"
   ]
  },
  {
   "cell_type": "code",
   "execution_count": 113,
   "id": "9e491802-a190-4d24-a153-1ba5f9572726",
   "metadata": {},
   "outputs": [
    {
     "data": {
      "image/png": "[encoded data removed]",
      "text/plain": [
       "<Figure size 640x480 with 1 Axes>"
      ]
     },
     "metadata": {},
     "output_type": "display_data"
    }
   ],
   "source": [
    "plot_data_and_line(X_train, y_train)"
   ]
  },
  {
   "cell_type": "markdown",
   "id": "ba4d6f5c-d1a9-4357-92ef-485df2384d73",
   "metadata": {},
   "source": [
    "### Linear Regression Model :"
   ]
  },
  {
   "cell_type": "code",
   "execution_count": 114,
   "id": "50aacb08-06e1-41d6-86a7-4f59627704ea",
   "metadata": {},
   "outputs": [],
   "source": [
    "def LinearRegression(X, y):\n",
    "    Xp, yp = _prepare_data(X,y)\n",
    "    \n",
    "    H = np.dot(Xp.T, Xp)\n",
    "    \n",
    "    H_inv = np.linalg.inv(H)\n",
    "\n",
    "    w = np.dot(np.dot(H_inv, Xp.T), y)\n",
    "\n",
    "    return w, Ls(w, Xp, yp)"
   ]
  },
  {
   "cell_type": "markdown",
   "id": "deac032d-a7e9-4a42-b480-ede9986cad9d",
   "metadata": {},
   "source": [
    "### Train our model with cars Data : "
   ]
  },
  {
   "cell_type": "code",
   "execution_count": 123,
   "id": "14a8f7c0-6cb6-479c-b191-32772154d42e",
   "metadata": {},
   "outputs": [
    {
     "name": "stdout",
     "output_type": "stream",
     "text": [
      " Optimal parameters w :  [-17.57909489   3.93240876]\n",
      " Loss :  227.07042102189783\n"
     ]
    }
   ],
   "source": [
    "w, loss = LinearRegression(X_train, y_train)\n",
    "print(\" Optimal parameters w : \", w)\n",
    "print(\" Loss : \", loss)"
   ]
  },
  {
   "cell_type": "code",
   "execution_count": 120,
   "id": "51a86eb4-8ea9-4eb6-b4a8-d98b0f2c3ad9",
   "metadata": {},
   "outputs": [
    {
     "data": {
      "image/png": "[encoded data removed]",
      "text/plain": [
       "<Figure size 640x480 with 1 Axes>"
      ]
     },
     "metadata": {},
     "output_type": "display_data"
    }
   ],
   "source": [
    "plot_data_and_line(X_train, y_train, w)"
   ]
  },
  {
   "cell_type": "code",
   "execution_count": null,
   "id": "1e7e0f31-3aca-4dd2-8547-75d6243040c3",
   "metadata": {},
   "outputs": [],
   "source": []
  }
 ],
 "metadata": {
  "kernelspec": {
   "display_name": "Python 3 (ipykernel)",
   "language": "python",
   "name": "python3"
  },
  "language_info": {
   "codemirror_mode": {
    "name": "ipython",
    "version": 3
   },
   "file_extension": ".py",
   "mimetype": "text/x-python",
   "name": "python",
   "nbconvert_exporter": "python",
   "pygments_lexer": "ipython3",
   "version": "3.11.6"
  }
 },
 "nbformat": 4,
 "nbformat_minor": 5
}
