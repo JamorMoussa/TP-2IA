{
 "cells": [
  {
   "cell_type": "code",
   "execution_count": 17,
   "id": "21d017b5-776b-4adb-9f43-a76c272be099",
   "metadata": {},
   "outputs": [],
   "source": [
    "import scipy as sp\n",
    "import numpy as np"
   ]
  },
  {
   "cell_type": "code",
   "execution_count": 12,
   "id": "97f4d67b-1f90-4377-bb86-612ff364fbfc",
   "metadata": {},
   "outputs": [],
   "source": [
    "X = np.random.random((100, 2))\n",
    "y = np.dot(X, np.array([1,2])) + 3"
   ]
  },
  {
   "cell_type": "code",
   "execution_count": 16,
   "id": "1614373a-a348-4e8b-b17d-ad89547343d9",
   "metadata": {},
   "outputs": [],
   "source": [
    "from sklearn.linear_model import _base"
   ]
  },
  {
   "cell_type": "code",
   "execution_count": 20,
   "id": "8d20b782-a156-4f66-97eb-959763f3dba8",
   "metadata": {},
   "outputs": [],
   "source": [
    "Xp, yp, X_offset, y_offset, X_scale = _base._preprocess_data(X, y, True)"
   ]
  },
  {
   "cell_type": "code",
   "execution_count": 22,
   "id": "77e00a07-0c65-4618-8c2c-c78ebb7a3352",
   "metadata": {},
   "outputs": [
    {
     "data": {
      "text/plain": [
       "array([[0.49346077, 0.65686347],\n",
       "       [0.6932598 , 0.5896329 ],\n",
       "       [0.77116951, 0.88687055],\n",
       "       [0.06670727, 0.20299538],\n",
       "       [0.20166189, 0.53607411],\n",
       "       [0.34567105, 0.99384736],\n",
       "       [0.32181045, 0.04101792],\n",
       "       [0.43184976, 0.36883152],\n",
       "       [0.30844274, 0.09316864],\n",
       "       [0.41527983, 0.98561273]])"
      ]
     },
     "execution_count": 22,
     "metadata": {},
     "output_type": "execute_result"
    }
   ],
   "source": [
    "X[:10]"
   ]
  },
  {
   "cell_type": "code",
   "execution_count": null,
   "id": "f7196fe3-bf4e-4c1c-8c1f-b2112ebded0d",
   "metadata": {},
   "outputs": [],
   "source": []
  }
 ],
 "metadata": {
  "kernelspec": {
   "display_name": "Python 3 (ipykernel)",
   "language": "python",
   "name": "python3"
  },
  "language_info": {
   "codemirror_mode": {
    "name": "ipython",
    "version": 3
   },
   "file_extension": ".py",
   "mimetype": "text/x-python",
   "name": "python",
   "nbconvert_exporter": "python",
   "pygments_lexer": "ipython3",
   "version": "3.11.6"
  }
 },
 "nbformat": 4,
 "nbformat_minor": 5
}
